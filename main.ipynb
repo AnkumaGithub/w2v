{
 "cells": [
  {
   "metadata": {
    "ExecuteTime": {
     "end_time": "2025-03-09T09:22:01.397793Z",
     "start_time": "2025-03-09T09:22:01.389264Z"
    }
   },
   "cell_type": "code",
   "source": [
    "import numpy as np\n",
    "\n",
    "import gensim\n",
    "import torch\n",
    "import re\n",
    "import nltk\n",
    "\n",
    "import matplotlib.pyplot as plt\n",
    "import seaborn as sns"
   ],
   "id": "d63c9933d4475fd8",
   "outputs": [],
   "execution_count": 34
  },
  {
   "metadata": {
    "ExecuteTime": {
     "end_time": "2025-03-09T09:22:03.272777Z",
     "start_time": "2025-03-09T09:22:03.269510Z"
    }
   },
   "cell_type": "code",
   "source": "url = 'https://raw.githubusercontent.com/nevmenandr/word2vec-russian-novels/master/books_before/WarAndPeace.txt'",
   "id": "54c379987f4bd7d3",
   "outputs": [],
   "execution_count": 35
  },
  {
   "metadata": {
    "ExecuteTime": {
     "end_time": "2025-03-09T09:22:06.132443Z",
     "start_time": "2025-03-09T09:22:04.409105Z"
    }
   },
   "cell_type": "code",
   "source": [
    "import requests\n",
    "\n",
    "res = requests.get(url)\n",
    "text = res.text\n",
    "print(text[-1000:])"
   ],
   "id": "99da1d9ab56baa19",
   "outputs": [
    {
     "name": "stdout",
     "output_type": "stream",
     "text": [
      "тказаться от непосредственного чувства неподвижности земли и такого же чувства движения планет, так и для истории трудность признания подчиненности личности законам пространства, времени и причин состоит в том, чтобы отказаться от непосредственного чувства независимости своей личности. Но, как в астрономии новое воззрение говорило: 'Правда, мы не чувствуем движения земли, но, допустив ее неподвижность, мы приходим к бессмыслице; допустив же движение, которого мы не чувствуем, мы приходим к законам',- так и в истории новое воззрение говорит: 'И правда, мы не чувствуем нашей зависимости, но, допустив вашу свободу, мы приходим к бессмыслице; допустив же свою зависимость от внешнего мира, времени и причин, приходим к законам'.\r\n",
      "В первом случае надо было отказаться от сознания несуществующей неподвижности в пространстве и признать неощущаемое нами движение; в настоящем случае - точно так же необходимо отказаться от несуществующей свободы и признать неощущаемую нами зависимость.\r\n",
      "    \r\n",
      "  \r\n",
      " \n"
     ]
    }
   ],
   "execution_count": 36
  },
  {
   "metadata": {
    "ExecuteTime": {
     "end_time": "2025-03-09T09:22:09.632822Z",
     "start_time": "2025-03-09T09:22:08.751215Z"
    }
   },
   "cell_type": "code",
   "source": [
    "text = text.lower()\n",
    "text = re.sub(\"\\n|\\t|\\r\", \" \", text)\n",
    "nltk.download('stopwords')\n",
    "nltk.download('punkt')"
   ],
   "id": "3340fb9a28746314",
   "outputs": [
    {
     "name": "stderr",
     "output_type": "stream",
     "text": [
      "[nltk_data] Downloading package stopwords to\n",
      "[nltk_data]     /Users/maksimkuznetsov/nltk_data...\n",
      "[nltk_data]   Package stopwords is already up-to-date!\n",
      "[nltk_data] Downloading package punkt to\n",
      "[nltk_data]     /Users/maksimkuznetsov/nltk_data...\n",
      "[nltk_data]   Package punkt is already up-to-date!\n"
     ]
    },
    {
     "data": {
      "text/plain": [
       "True"
      ]
     },
     "execution_count": 37,
     "metadata": {},
     "output_type": "execute_result"
    }
   ],
   "execution_count": 37
  },
  {
   "metadata": {
    "ExecuteTime": {
     "end_time": "2025-03-09T09:22:12.166989Z",
     "start_time": "2025-03-09T09:22:11.838908Z"
    }
   },
   "cell_type": "code",
   "source": [
    "from nltk.tokenize import sent_tokenize\n",
    "sents = sent_tokenize(text)"
   ],
   "id": "dc4d3fc61e6d5d52",
   "outputs": [],
   "execution_count": 38
  },
  {
   "metadata": {
    "ExecuteTime": {
     "end_time": "2025-03-09T09:22:13.661240Z",
     "start_time": "2025-03-09T09:22:13.317145Z"
    }
   },
   "cell_type": "code",
   "source": [
    "from nltk.tokenize import RegexpTokenizer\n",
    "tokenizer = RegexpTokenizer(r'\\w+')\n",
    "\n",
    "sent_tokenize = [tokenizer.tokenize(item) for item in sents]\n",
    "tokens = [item for sent in sent_tokenize for item in sent]"
   ],
   "id": "245477215a979be4",
   "outputs": [],
   "execution_count": 39
  },
  {
   "metadata": {
    "ExecuteTime": {
     "end_time": "2025-03-09T09:22:15.028708Z",
     "start_time": "2025-03-09T09:22:14.692545Z"
    }
   },
   "cell_type": "code",
   "source": [
    "from nltk.corpus import stopwords\n",
    "ru_stop = stopwords.words('russian')\n",
    "\n",
    "sents_tokenize = [[item for item in sent if item not in ru_stop] for sent in sent_tokenize]"
   ],
   "id": "b699e247edac75ce",
   "outputs": [],
   "execution_count": 40
  },
  {
   "metadata": {
    "ExecuteTime": {
     "end_time": "2025-03-09T09:22:30.940486Z",
     "start_time": "2025-03-09T09:22:16.022689Z"
    }
   },
   "cell_type": "code",
   "source": [
    "import pymorphy2\n",
    "morph = pymorphy2.MorphAnalyzer()\n",
    "sents_tokenize = [[morph.normal_forms(item)[0] for item in sent] for sent in sents_tokenize]"
   ],
   "id": "660dc18a444cad20",
   "outputs": [],
   "execution_count": 41
  },
  {
   "metadata": {
    "ExecuteTime": {
     "end_time": "2025-03-09T09:23:48.972501Z",
     "start_time": "2025-03-09T09:23:48.918345Z"
    }
   },
   "cell_type": "code",
   "source": "words = [item for sent in sents_tokenize for item in sent]",
   "id": "3221bc107768e740",
   "outputs": [],
   "execution_count": 42
  },
  {
   "metadata": {
    "ExecuteTime": {
     "end_time": "2025-03-09T09:23:50.021949Z",
     "start_time": "2025-03-09T09:23:49.997656Z"
    }
   },
   "cell_type": "code",
   "source": [
    "from collections import Counter\n",
    "word_dict = Counter(words)"
   ],
   "id": "97e489dee72fc5d7",
   "outputs": [],
   "execution_count": 43
  },
  {
   "metadata": {
    "ExecuteTime": {
     "end_time": "2025-03-09T09:29:57.225500Z",
     "start_time": "2025-03-09T09:29:53.027057Z"
    }
   },
   "cell_type": "code",
   "source": [
    "from gensim.models import Word2Vec\n",
    "model = Word2Vec(vector_size=100, window=3, min_count=3, workers=4)\n",
    "model.build_vocab(sents_tokenize)\n",
    "model.train(sents_tokenize, total_examples=model.corpus_count, epochs=50)"
   ],
   "id": "a441dfd2ee626ce6",
   "outputs": [
    {
     "data": {
      "text/plain": [
       "(12472022, 13963800)"
      ]
     },
     "execution_count": 50,
     "metadata": {},
     "output_type": "execute_result"
    }
   ],
   "execution_count": 50
  },
  {
   "metadata": {
    "ExecuteTime": {
     "end_time": "2025-03-09T09:29:58.836274Z",
     "start_time": "2025-03-09T09:29:58.832577Z"
    }
   },
   "cell_type": "code",
   "source": "len(model.wv.key_to_index)",
   "id": "e8a909797bfcaa65",
   "outputs": [
    {
     "data": {
      "text/plain": [
       "9308"
      ]
     },
     "execution_count": 51,
     "metadata": {},
     "output_type": "execute_result"
    }
   ],
   "execution_count": 51
  },
  {
   "metadata": {
    "ExecuteTime": {
     "end_time": "2025-03-09T09:32:25.142191Z",
     "start_time": "2025-03-09T09:32:25.124441Z"
    }
   },
   "cell_type": "code",
   "source": "model.wv.most_similar('пушка')",
   "id": "f512132961c49f44",
   "outputs": [
    {
     "data": {
      "text/plain": [
       "[('дымиться', 0.6431303024291992),\n",
       " ('огород', 0.6406190991401672),\n",
       " ('ружьё', 0.6394479274749756),\n",
       " ('снятой', 0.6333537697792053),\n",
       " ('бревно', 0.6284931898117065),\n",
       " ('спуск', 0.6282528042793274),\n",
       " ('передок', 0.6239108443260193),\n",
       " ('праценский', 0.6123098731040955),\n",
       " ('улан', 0.6059473752975464),\n",
       " ('передковый', 0.6018396019935608)]"
      ]
     },
     "execution_count": 53,
     "metadata": {},
     "output_type": "execute_result"
    }
   ],
   "execution_count": 53
  }
 ],
 "metadata": {
  "kernelspec": {
   "display_name": "Python 3",
   "language": "python",
   "name": "python3"
  },
  "language_info": {
   "codemirror_mode": {
    "name": "ipython",
    "version": 2
   },
   "file_extension": ".py",
   "mimetype": "text/x-python",
   "name": "python",
   "nbconvert_exporter": "python",
   "pygments_lexer": "ipython2",
   "version": "2.7.6"
  }
 },
 "nbformat": 4,
 "nbformat_minor": 5
}
