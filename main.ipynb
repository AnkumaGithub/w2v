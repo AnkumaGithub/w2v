{
 "cells": [
  {
   "metadata": {
    "ExecuteTime": {
     "end_time": "2025-03-08T20:02:43.019552Z",
     "start_time": "2025-03-08T20:02:41.899001Z"
    }
   },
   "cell_type": "code",
   "source": [
    "import numpy as np\n",
    "\n",
    "import gensim\n",
    "import torch\n",
    "import re\n",
    "import nltk\n",
    "\n",
    "import matplotlib.pyplot as plt\n",
    "import seaborn as sns"
   ],
   "id": "d63c9933d4475fd8",
   "outputs": [],
   "execution_count": 7
  },
  {
   "metadata": {
    "ExecuteTime": {
     "end_time": "2025-03-08T19:57:09.115031Z",
     "start_time": "2025-03-08T19:57:09.113586Z"
    }
   },
   "cell_type": "code",
   "source": "url = 'https://raw.githubusercontent.com/nevmenandr/word2vec-russian-novels/master/books_before/WarAndPeace.txt'",
   "id": "54c379987f4bd7d3",
   "outputs": [],
   "execution_count": 1
  },
  {
   "metadata": {
    "ExecuteTime": {
     "end_time": "2025-03-08T20:00:29.975464Z",
     "start_time": "2025-03-08T20:00:29.534845Z"
    }
   },
   "cell_type": "code",
   "source": [
    "import requests\n",
    "\n",
    "res = requests.get(url)\n",
    "text = res.text\n",
    "print(text[-1000:])"
   ],
   "id": "99da1d9ab56baa19",
   "outputs": [
    {
     "name": "stdout",
     "output_type": "stream",
     "text": [
      "тказаться от непосредственного чувства неподвижности земли и такого же чувства движения планет, так и для истории трудность признания подчиненности личности законам пространства, времени и причин состоит в том, чтобы отказаться от непосредственного чувства независимости своей личности. Но, как в астрономии новое воззрение говорило: 'Правда, мы не чувствуем движения земли, но, допустив ее неподвижность, мы приходим к бессмыслице; допустив же движение, которого мы не чувствуем, мы приходим к законам',- так и в истории новое воззрение говорит: 'И правда, мы не чувствуем нашей зависимости, но, допустив вашу свободу, мы приходим к бессмыслице; допустив же свою зависимость от внешнего мира, времени и причин, приходим к законам'.\r\n",
      "В первом случае надо было отказаться от сознания несуществующей неподвижности в пространстве и признать неощущаемое нами движение; в настоящем случае - точно так же необходимо отказаться от несуществующей свободы и признать неощущаемую нами зависимость.\r\n",
      "    \r\n",
      "  \r\n",
      " \n"
     ]
    }
   ],
   "execution_count": 5
  },
  {
   "metadata": {
    "ExecuteTime": {
     "end_time": "2025-03-08T20:12:07.757814Z",
     "start_time": "2025-03-08T20:12:06.453907Z"
    }
   },
   "cell_type": "code",
   "source": [
    "text = text.lower()\n",
    "text = re.sub(\"\\n|\\t|\\r\", \" \", text)\n",
    "nltk.download('stopwords')\n",
    "nltk.download('punkt')"
   ],
   "id": "3340fb9a28746314",
   "outputs": [
    {
     "name": "stderr",
     "output_type": "stream",
     "text": [
      "[nltk_data] Downloading package stopwords to\n",
      "[nltk_data]     /Users/maksimkuznetsov/nltk_data...\n",
      "[nltk_data]   Package stopwords is already up-to-date!\n",
      "[nltk_data] Downloading package punkt to\n",
      "[nltk_data]     /Users/maksimkuznetsov/nltk_data...\n",
      "[nltk_data]   Unzipping tokenizers/punkt.zip.\n"
     ]
    },
    {
     "data": {
      "text/plain": [
       "True"
      ]
     },
     "execution_count": 11,
     "metadata": {},
     "output_type": "execute_result"
    }
   ],
   "execution_count": 11
  },
  {
   "metadata": {
    "ExecuteTime": {
     "end_time": "2025-03-08T20:14:41.121375Z",
     "start_time": "2025-03-08T20:14:40.834762Z"
    }
   },
   "cell_type": "code",
   "source": [
    "from nltk.tokenize import sent_tokenize\n",
    "sents = sent_tokenize(text)"
   ],
   "id": "dc4d3fc61e6d5d52",
   "outputs": [],
   "execution_count": 17
  },
  {
   "metadata": {
    "ExecuteTime": {
     "end_time": "2025-03-08T20:31:40.506759Z",
     "start_time": "2025-03-08T20:31:40.397057Z"
    }
   },
   "cell_type": "code",
   "source": [
    "from nltk.tokenize import RegexpTokenizer\n",
    "tokenizer = RegexpTokenizer(r'\\w+')\n",
    "\n",
    "sent_tokenize = [tokenizer.tokenize(item) for item in sents]\n",
    "tokens = [item for sent in sent_tokenize for item in sent]"
   ],
   "id": "245477215a979be4",
   "outputs": [],
   "execution_count": 22
  },
  {
   "metadata": {
    "ExecuteTime": {
     "end_time": "2025-03-08T20:36:09.371427Z",
     "start_time": "2025-03-08T20:36:08.874404Z"
    }
   },
   "cell_type": "code",
   "source": [
    "from nltk.corpus import stopwords\n",
    "ru_stop = stopwords.words('russian')\n",
    "\n",
    "sents_tokenize = [[item for item in sent if item not in ru_stop] for sent in sent_tokenize]"
   ],
   "id": "b699e247edac75ce",
   "outputs": [],
   "execution_count": 23
  },
  {
   "metadata": {
    "ExecuteTime": {
     "end_time": "2025-03-08T20:39:46.559241Z",
     "start_time": "2025-03-08T20:39:30.759109Z"
    }
   },
   "cell_type": "code",
   "source": [
    "import pymorphy2\n",
    "morph = pymorphy2.MorphAnalyzer()\n",
    "sents_tokenize = [[morph.normal_forms(item)[0] for item in sent] for sent in sents_tokenize]"
   ],
   "id": "660dc18a444cad20",
   "outputs": [],
   "execution_count": 24
  },
  {
   "metadata": {
    "ExecuteTime": {
     "end_time": "2025-03-08T20:49:01.802427Z",
     "start_time": "2025-03-08T20:49:01.690244Z"
    }
   },
   "cell_type": "code",
   "source": "words = [item for sent in sents_tokenize for item in sent]",
   "id": "3221bc107768e740",
   "outputs": [],
   "execution_count": 32
  },
  {
   "metadata": {
    "ExecuteTime": {
     "end_time": "2025-03-08T20:49:03.898335Z",
     "start_time": "2025-03-08T20:49:03.821303Z"
    }
   },
   "cell_type": "code",
   "source": [
    "from collections import Counter\n",
    "word_dict = Counter(words)"
   ],
   "id": "97e489dee72fc5d7",
   "outputs": [],
   "execution_count": 33
  }
 ],
 "metadata": {
  "kernelspec": {
   "display_name": "Python 3",
   "language": "python",
   "name": "python3"
  },
  "language_info": {
   "codemirror_mode": {
    "name": "ipython",
    "version": 2
   },
   "file_extension": ".py",
   "mimetype": "text/x-python",
   "name": "python",
   "nbconvert_exporter": "python",
   "pygments_lexer": "ipython2",
   "version": "2.7.6"
  }
 },
 "nbformat": 4,
 "nbformat_minor": 5
}
